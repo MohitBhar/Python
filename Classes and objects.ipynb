{
 "cells": [
  {
   "cell_type": "code",
   "execution_count": 4,
   "metadata": {},
   "outputs": [
    {
     "name": "stdout",
     "output_type": "stream",
     "text": [
      "<class 'int'>\n"
     ]
    }
   ],
   "source": [
    "# any data type is a class like int, also list\n",
    "a=10\n",
    "print(type(a))"
   ]
  },
  {
   "cell_type": "markdown",
   "metadata": {},
   "source": [
    "# Creating class"
   ]
  },
  {
   "cell_type": "code",
   "execution_count": 6,
   "metadata": {},
   "outputs": [],
   "source": [
    "class Student:\n",
    "    pass"
   ]
  },
  {
   "cell_type": "code",
   "execution_count": 9,
   "metadata": {},
   "outputs": [
    {
     "name": "stdout",
     "output_type": "stream",
     "text": [
      "<class '__main__.Student'>\n"
     ]
    }
   ],
   "source": [
    "s1=Student()\n",
    "s2=Student()\n",
    "s3=Student()\n",
    "print(type(s1))"
   ]
  },
  {
   "cell_type": "code",
   "execution_count": null,
   "metadata": {},
   "outputs": [],
   "source": []
  },
  {
   "cell_type": "markdown",
   "metadata": {},
   "source": [
    "# Instance Attributes i.e. can be different for different objects e.g name, roll no, age"
   ]
  },
  {
   "cell_type": "code",
   "execution_count": 10,
   "metadata": {},
   "outputs": [],
   "source": [
    "s1.name=\"Mohit\"\n",
    "s1.age=20\n",
    "s2.rollno=101\n",
    "s3.age=18"
   ]
  },
  {
   "cell_type": "code",
   "execution_count": 13,
   "metadata": {},
   "outputs": [
    {
     "name": "stdout",
     "output_type": "stream",
     "text": [
      "{'name': 'Mohit', 'age': 20}\n",
      "{'rollno': 101}\n",
      "{'age': 18}\n",
      "{'__module__': '__main__', '__dict__': <attribute '__dict__' of 'Student' objects>, '__weakref__': <attribute '__weakref__' of 'Student' objects>, '__doc__': None}\n",
      "{}\n"
     ]
    }
   ],
   "source": [
    "# checking the object and class attributes\n",
    "print(s1.__dict__)\n",
    "print(s2.__dict__)\n",
    "print(s3.__dict__)\n",
    "print(Student.__dict__)\n",
    "s4=Student()\n",
    "print(s4.__dict__)"
   ]
  },
  {
   "cell_type": "code",
   "execution_count": 14,
   "metadata": {},
   "outputs": [
    {
     "name": "stdout",
     "output_type": "stream",
     "text": [
      "Mohit\n"
     ]
    }
   ],
   "source": [
    "# excess the attributes of the objects\n",
    "print(s1.name)"
   ]
  },
  {
   "cell_type": "code",
   "execution_count": 15,
   "metadata": {},
   "outputs": [
    {
     "name": "stdout",
     "output_type": "stream",
     "text": [
      "True\n",
      "False\n"
     ]
    }
   ],
   "source": [
    "# using inbuit functions\n",
    "# hasattr\n",
    "print(hasattr(s1,'name'))\n",
    "print(hasattr(s4,'name'))"
   ]
  },
  {
   "cell_type": "markdown",
   "metadata": {},
   "source": [
    "## hasattr(obj,attr)\n",
    "## setattr(obj,attr,value)\n",
    "## delattr(obj,attr)\n",
    "## getattr(obj,att, value if att not present)\n"
   ]
  },
  {
   "cell_type": "code",
   "execution_count": 19,
   "metadata": {},
   "outputs": [
    {
     "name": "stdout",
     "output_type": "stream",
     "text": [
      "Mohit\n",
      "-1\n"
     ]
    }
   ],
   "source": [
    "print(getattr(s1,\"name\",-1))\n",
    "print(getattr(s2,\"name\",-1))"
   ]
  },
  {
   "cell_type": "code",
   "execution_count": 20,
   "metadata": {},
   "outputs": [
    {
     "name": "stdout",
     "output_type": "stream",
     "text": [
      "{'rollno': 101, 'name': 'Aman'}\n"
     ]
    }
   ],
   "source": [
    "setattr(s2,\"name\",\"Aman\")\n",
    "print(s2.__dict__)"
   ]
  },
  {
   "cell_type": "code",
   "execution_count": 21,
   "metadata": {},
   "outputs": [
    {
     "name": "stdout",
     "output_type": "stream",
     "text": [
      "{'age': 20}\n"
     ]
    }
   ],
   "source": [
    "delattr(s1,\"name\")\n",
    "print(s1.__dict__)"
   ]
  },
  {
   "cell_type": "markdown",
   "metadata": {},
   "source": [
    "# Class Attributes"
   ]
  },
  {
   "cell_type": "code",
   "execution_count": 22,
   "metadata": {},
   "outputs": [
    {
     "name": "stdout",
     "output_type": "stream",
     "text": [
      "{'__module__': '__main__', '__dict__': <attribute '__dict__' of 'Student' objects>, '__weakref__': <attribute '__weakref__' of 'Student' objects>, '__doc__': None, 'totalstudents': 20}\n"
     ]
    }
   ],
   "source": [
    "# Adding class attribute\n",
    "#1st way\n",
    "Student.totalstudents=20\n",
    "print(Student.__dict__)"
   ]
  },
  {
   "cell_type": "code",
   "execution_count": 24,
   "metadata": {},
   "outputs": [],
   "source": [
    "# 2nd way\n",
    "class student():\n",
    "    totalstudent=20\n",
    "    classteacher=\"Komal\"\n",
    "s1=student()\n",
    "s2=student()\n"
   ]
  },
  {
   "cell_type": "code",
   "execution_count": 25,
   "metadata": {},
   "outputs": [
    {
     "name": "stdout",
     "output_type": "stream",
     "text": [
      "{'__module__': '__main__', 'totalstudent': 20, 'classteacher': 'Komal', '__dict__': <attribute '__dict__' of 'student' objects>, '__weakref__': <attribute '__weakref__' of 'student' objects>, '__doc__': None}\n"
     ]
    }
   ],
   "source": [
    "print(student.__dict__)"
   ]
  },
  {
   "cell_type": "code",
   "execution_count": 26,
   "metadata": {},
   "outputs": [
    {
     "name": "stdout",
     "output_type": "stream",
     "text": [
      "{}\n"
     ]
    }
   ],
   "source": [
    "print(s1.__dict__)"
   ]
  },
  {
   "cell_type": "code",
   "execution_count": 28,
   "metadata": {},
   "outputs": [
    {
     "name": "stdout",
     "output_type": "stream",
     "text": [
      "20\n",
      "20\n"
     ]
    }
   ],
   "source": [
    "# excess the class attributes\n",
    "print(student.totalstudent)\n",
    "print(s1.totalstudent)"
   ]
  },
  {
   "cell_type": "code",
   "execution_count": 29,
   "metadata": {},
   "outputs": [],
   "source": [
    "#updating class attribute\n",
    "student.totalstudent=30"
   ]
  },
  {
   "cell_type": "code",
   "execution_count": 30,
   "metadata": {},
   "outputs": [
    {
     "name": "stdout",
     "output_type": "stream",
     "text": [
      "30\n",
      "30\n"
     ]
    }
   ],
   "source": [
    "print(student.totalstudent)\n",
    "print(s1.totalstudent)"
   ]
  },
  {
   "cell_type": "code",
   "execution_count": 32,
   "metadata": {},
   "outputs": [
    {
     "name": "stdout",
     "output_type": "stream",
     "text": [
      "30\n",
      "40\n",
      "30\n"
     ]
    }
   ],
   "source": [
    "# trying update using object s1\n",
    "s1.totalstudent=40\n",
    "print(student.totalstudent)\n",
    "print(s1.totalstudent) #excess the instance attr\n",
    "print(s2.totalstudent) #excess the class attr for more look into notebook"
   ]
  },
  {
   "cell_type": "code",
   "execution_count": 33,
   "metadata": {},
   "outputs": [
    {
     "name": "stdout",
     "output_type": "stream",
     "text": [
      "{'totalstudent': 40}\n",
      "{}\n"
     ]
    }
   ],
   "source": [
    "print(s1.__dict__)\n",
    "print(s2.__dict__)"
   ]
  },
  {
   "cell_type": "markdown",
   "metadata": {},
   "source": [
    "# Lecture 5: Methods"
   ]
  },
  {
   "cell_type": "code",
   "execution_count": 36,
   "metadata": {},
   "outputs": [],
   "source": [
    "# ADDING INSTANCE METHOD\n",
    "class student:\n",
    "    ## class attribtutes :Any attr  we add inside class becomes class attr\n",
    "    totalstudent=20\n",
    "    classteacher=\"komal\"\n",
    "    \n",
    "    ## Any function we add inside class becomes Instance Method\n",
    "    def printHello():  \n",
    "        print(\"Hello\")\n",
    "s1=student()\n",
    "s2=student()"
   ]
  },
  {
   "cell_type": "code",
   "execution_count": 37,
   "metadata": {},
   "outputs": [
    {
     "ename": "TypeError",
     "evalue": "printHello() takes 0 positional arguments but 1 was given",
     "output_type": "error",
     "traceback": [
      "\u001b[1;31m---------------------------------------------------------------------------\u001b[0m",
      "\u001b[1;31mTypeError\u001b[0m                                 Traceback (most recent call last)",
      "\u001b[1;32m<ipython-input-37-cecbd9e3dcbb>\u001b[0m in \u001b[0;36m<module>\u001b[1;34m\u001b[0m\n\u001b[1;32m----> 1\u001b[1;33m \u001b[0ms1\u001b[0m\u001b[1;33m.\u001b[0m\u001b[0mprintHello\u001b[0m\u001b[1;33m(\u001b[0m\u001b[1;33m)\u001b[0m\u001b[1;33m\u001b[0m\u001b[1;33m\u001b[0m\u001b[0m\n\u001b[0m",
      "\u001b[1;31mTypeError\u001b[0m: printHello() takes 0 positional arguments but 1 was given"
     ]
    }
   ],
   "source": [
    "s1.printHello()"
   ]
  },
  {
   "cell_type": "markdown",
   "metadata": {},
   "source": [
    "TypeError: printHello() takes 0 positional arguments but 1 was given\n",
    "look notebook "
   ]
  },
  {
   "cell_type": "code",
   "execution_count": 38,
   "metadata": {},
   "outputs": [
    {
     "name": "stdout",
     "output_type": "stream",
     "text": [
      "Hello\n"
     ]
    }
   ],
   "source": [
    "student.printHello() # no need to remember"
   ]
  },
  {
   "cell_type": "code",
   "execution_count": 39,
   "metadata": {},
   "outputs": [],
   "source": [
    "# ADDING INSTANCE METHOD\n",
    "class student:\n",
    "    ## class attribtutes :Any attr  we add inside class becomes class attr\n",
    "    totalstudent=20\n",
    "    classteacher=\"komal\"\n",
    "    \n",
    "    ## Any function we add inside class becomes Instance Method\n",
    "    def printHello(self):  \n",
    "        print(\"Hello\")\n",
    "s1=student()\n",
    "s2=student()"
   ]
  },
  {
   "cell_type": "code",
   "execution_count": 42,
   "metadata": {},
   "outputs": [
    {
     "name": "stdout",
     "output_type": "stream",
     "text": [
      "Hello\n"
     ]
    }
   ],
   "source": [
    "s1.printHello()\n",
    "#student.printHello(s1)"
   ]
  },
  {
   "cell_type": "code",
   "execution_count": 54,
   "metadata": {},
   "outputs": [],
   "source": [
    "# ADDING INSTANCE METHOD\n",
    "class student:\n",
    "    totalstudent=20\n",
    "    classteacher=\"komal\"\n",
    "    \n",
    "    def printHello(self):  \n",
    "        print(\"Hello\")\n",
    "    \n",
    "    def print(self,str):\n",
    "        print(str)\n",
    "    \n",
    "    def printname(self):\n",
    "        print(name)\n",
    "    \n",
    "    def printName(self):\n",
    "        print(self.name)\n",
    "    \n",
    "s1=student()\n",
    "s2=student()\n",
    "s1.name=\"Mohit\""
   ]
  },
  {
   "cell_type": "code",
   "execution_count": 44,
   "metadata": {},
   "outputs": [
    {
     "name": "stdout",
     "output_type": "stream",
     "text": [
      "abc\n"
     ]
    }
   ],
   "source": [
    "s1.print(\"abc\")"
   ]
  },
  {
   "cell_type": "code",
   "execution_count": 55,
   "metadata": {},
   "outputs": [
    {
     "ename": "NameError",
     "evalue": "name 'name' is not defined",
     "output_type": "error",
     "traceback": [
      "\u001b[1;31m---------------------------------------------------------------------------\u001b[0m",
      "\u001b[1;31mNameError\u001b[0m                                 Traceback (most recent call last)",
      "\u001b[1;32m<ipython-input-55-9d2c4d3fe24c>\u001b[0m in \u001b[0;36m<module>\u001b[1;34m\u001b[0m\n\u001b[0;32m      1\u001b[0m \u001b[1;31m#self is to be used inside class for excees the instance attr\u001b[0m\u001b[1;33m\u001b[0m\u001b[1;33m\u001b[0m\u001b[1;33m\u001b[0m\u001b[0m\n\u001b[0;32m      2\u001b[0m \u001b[1;33m\u001b[0m\u001b[0m\n\u001b[1;32m----> 3\u001b[1;33m \u001b[0ms1\u001b[0m\u001b[1;33m.\u001b[0m\u001b[0mprintname\u001b[0m\u001b[1;33m(\u001b[0m\u001b[1;33m)\u001b[0m\u001b[1;33m\u001b[0m\u001b[1;33m\u001b[0m\u001b[0m\n\u001b[0m",
      "\u001b[1;32m<ipython-input-54-cbde56aea011>\u001b[0m in \u001b[0;36mprintname\u001b[1;34m(self)\u001b[0m\n\u001b[0;32m     11\u001b[0m \u001b[1;33m\u001b[0m\u001b[0m\n\u001b[0;32m     12\u001b[0m     \u001b[1;32mdef\u001b[0m \u001b[0mprintname\u001b[0m\u001b[1;33m(\u001b[0m\u001b[0mself\u001b[0m\u001b[1;33m)\u001b[0m\u001b[1;33m:\u001b[0m\u001b[1;33m\u001b[0m\u001b[1;33m\u001b[0m\u001b[0m\n\u001b[1;32m---> 13\u001b[1;33m         \u001b[0mprint\u001b[0m\u001b[1;33m(\u001b[0m\u001b[0mname\u001b[0m\u001b[1;33m)\u001b[0m\u001b[1;33m\u001b[0m\u001b[1;33m\u001b[0m\u001b[0m\n\u001b[0m\u001b[0;32m     14\u001b[0m \u001b[1;33m\u001b[0m\u001b[0m\n\u001b[0;32m     15\u001b[0m     \u001b[1;32mdef\u001b[0m \u001b[0mprintName\u001b[0m\u001b[1;33m(\u001b[0m\u001b[0mself\u001b[0m\u001b[1;33m)\u001b[0m\u001b[1;33m:\u001b[0m\u001b[1;33m\u001b[0m\u001b[1;33m\u001b[0m\u001b[0m\n",
      "\u001b[1;31mNameError\u001b[0m: name 'name' is not defined"
     ]
    }
   ],
   "source": [
    "#self is to be used inside class for excees the instance attr\n",
    "\n",
    "s1.printname()"
   ]
  },
  {
   "cell_type": "code",
   "execution_count": 56,
   "metadata": {},
   "outputs": [
    {
     "name": "stdout",
     "output_type": "stream",
     "text": [
      "Mohit\n"
     ]
    }
   ],
   "source": [
    "s1.printName()"
   ]
  },
  {
   "cell_type": "markdown",
   "metadata": {},
   "source": [
    "# Lecture 6: Constructors"
   ]
  },
  {
   "cell_type": "code",
   "execution_count": 58,
   "metadata": {},
   "outputs": [
    {
     "name": "stdout",
     "output_type": "stream",
     "text": [
      "constructor is called\n",
      "constructor is called\n"
     ]
    }
   ],
   "source": [
    "# DEFING THE CONSTRUCTOR\n",
    "class student:\n",
    "    totalstudent=20\n",
    "    classteacher=\"komal\"\n",
    "    ## DEFAULT CONSTRUCTOR\n",
    "    def __init__(self):\n",
    "        print(\"constructor is called\")\n",
    "        pass\n",
    "    \n",
    "    def printHello(self):  \n",
    "        print(\"Hello\")\n",
    "    \n",
    "    def print(self,str):\n",
    "        print(str)\n",
    "    \n",
    "    def printname(self):\n",
    "        print(name)\n",
    "    \n",
    "    def printName(self):\n",
    "        print(self.name)\n",
    "    \n",
    "s1=student()\n",
    "## CONSTRUCTOR IS CALLED\n",
    "s2=student()\n",
    "## CONSTRUCTOR IS CALLED\n",
    "s1.name=\"Mohit\""
   ]
  },
  {
   "cell_type": "code",
   "execution_count": 59,
   "metadata": {},
   "outputs": [],
   "source": [
    "# DEFING THE CONSTRUCTOR\n",
    "class student:\n",
    "    totalstudent=20\n",
    "    classteacher=\"komal\"\n",
    "    ## DEFAULT CONSTRUCTOR\n",
    "    def __init__(self):\n",
    "        self.name=\"Mohit\"\n",
    "        self.age=20\n",
    "        self.rollno=101\n",
    "    \n",
    "    def printHello(self):  \n",
    "        print(\"Hello\")\n",
    "    \n",
    "    def print(self,str):\n",
    "        print(str)\n",
    "    \n",
    "    def printname(self):\n",
    "        print(name)\n",
    "    \n",
    "    def printName(self):\n",
    "        print(self.name)\n",
    "    \n",
    "s1=student()\n",
    "s2=student()"
   ]
  },
  {
   "cell_type": "code",
   "execution_count": 60,
   "metadata": {},
   "outputs": [
    {
     "name": "stdout",
     "output_type": "stream",
     "text": [
      "{'name': 'Mohit', 'age': 20, 'rollno': 101}\n",
      "{'name': 'Mohit', 'age': 20, 'rollno': 101}\n"
     ]
    }
   ],
   "source": [
    "print(s1.__dict__)\n",
    "print(s2.__dict__)"
   ]
  },
  {
   "cell_type": "code",
   "execution_count": 61,
   "metadata": {},
   "outputs": [],
   "source": [
    "# DEFING THE CONSTRUCTOR\n",
    "class student:\n",
    "    totalstudent=20\n",
    "    classteacher=\"komal\"\n",
    "    ## DEFAULT CONSTRUCTOR\n",
    "    def __init__(self,name,rollno=100,age=20):\n",
    "        self.name=name\n",
    "        self.age=age\n",
    "        self.rollno=rollno    \n",
    "    def printHello(self):  \n",
    "        print(\"Hello\")\n",
    "    \n",
    "    def print(self,str):\n",
    "        print(str)\n",
    "    \n",
    "    def printname(self):\n",
    "        print(name)\n",
    "    \n",
    "    def printName(self):\n",
    "        print(self.name)\n",
    "    \n",
    "s1=student(\"Mohit\",101,20)\n",
    "s2=student('Aman',102)"
   ]
  },
  {
   "cell_type": "code",
   "execution_count": 62,
   "metadata": {},
   "outputs": [
    {
     "name": "stdout",
     "output_type": "stream",
     "text": [
      "{'name': 'Mohit', 'age': 20, 'rollno': 101}\n",
      "{'name': 'Aman', 'age': 20, 'rollno': 102}\n"
     ]
    }
   ],
   "source": [
    "print(s1.__dict__)\n",
    "print(s2.__dict__)"
   ]
  },
  {
   "cell_type": "markdown",
   "metadata": {},
   "source": [
    " there must be only 1 constructor\n",
    " how to counter multiple counter needs?\n",
    " ans is\n",
    "    def __init__(self,name,*args):\n",
    "        self.name=name\n",
    "        "
   ]
  },
  {
   "cell_type": "markdown",
   "metadata": {},
   "source": [
    "# Lecture 7: Access Modifiers"
   ]
  },
  {
   "cell_type": "code",
   "execution_count": 1,
   "metadata": {},
   "outputs": [],
   "source": [
    "# MAKING PROPERTY PRIVATE, everywhere we have to use __ \n",
    "class student:\n",
    "    totalstudent=20\n",
    "    classteacher=\"komal\"\n",
    "    def __init__(self,name,rollno=100,age=20):\n",
    "        # MAKING NAME PROPERTY PRIVATE\n",
    "        self.__name=name\n",
    "        self.age=age\n",
    "        self.rollno=rollno    \n",
    "    \n",
    "    def printName(self):\n",
    "        # everywhere we have to use __\n",
    "        print(self.__name)\n",
    "    \n",
    "s1=student(\"Mohit\",101,20)\n",
    "s2=student('Aman',102)"
   ]
  },
  {
   "cell_type": "code",
   "execution_count": 2,
   "metadata": {
    "scrolled": false
   },
   "outputs": [
    {
     "name": "stdout",
     "output_type": "stream",
     "text": [
      "20 101\n",
      "{'_student__name': 'Mohit', 'age': 20, 'rollno': 101}\n"
     ]
    },
    {
     "ename": "AttributeError",
     "evalue": "'student' object has no attribute 'name'",
     "output_type": "error",
     "traceback": [
      "\u001b[1;31m---------------------------------------------------------------------------\u001b[0m",
      "\u001b[1;31mAttributeError\u001b[0m                            Traceback (most recent call last)",
      "\u001b[1;32m<ipython-input-2-b91ddcacb50d>\u001b[0m in \u001b[0;36m<module>\u001b[1;34m\u001b[0m\n\u001b[0;32m      1\u001b[0m \u001b[0mprint\u001b[0m\u001b[1;33m(\u001b[0m\u001b[0ms1\u001b[0m\u001b[1;33m.\u001b[0m\u001b[0mage\u001b[0m\u001b[1;33m,\u001b[0m\u001b[0ms1\u001b[0m\u001b[1;33m.\u001b[0m\u001b[0mrollno\u001b[0m\u001b[1;33m)\u001b[0m\u001b[1;33m\u001b[0m\u001b[1;33m\u001b[0m\u001b[0m\n\u001b[0;32m      2\u001b[0m \u001b[0mprint\u001b[0m\u001b[1;33m(\u001b[0m\u001b[0ms1\u001b[0m\u001b[1;33m.\u001b[0m\u001b[0m__dict__\u001b[0m\u001b[1;33m)\u001b[0m\u001b[1;33m\u001b[0m\u001b[1;33m\u001b[0m\u001b[0m\n\u001b[1;32m----> 3\u001b[1;33m \u001b[0mprint\u001b[0m\u001b[1;33m(\u001b[0m\u001b[0ms1\u001b[0m\u001b[1;33m.\u001b[0m\u001b[0mname\u001b[0m\u001b[1;33m)\u001b[0m\u001b[1;33m\u001b[0m\u001b[1;33m\u001b[0m\u001b[0m\n\u001b[0m",
      "\u001b[1;31mAttributeError\u001b[0m: 'student' object has no attribute 'name'"
     ]
    }
   ],
   "source": [
    "print(s1.age,s1.rollno)\n",
    "print(s1.__dict__)\n",
    "print(s1.name)"
   ]
  },
  {
   "cell_type": "code",
   "execution_count": 78,
   "metadata": {},
   "outputs": [],
   "source": [
    "# How to access private property outside class \n",
    "class student:\n",
    "    totalstudent=20\n",
    "    classteacher=\"komal\"\n",
    "    def __init__(self,name,rollno=100,age=20):\n",
    "        # MAKING NAME PROPERTY PRIVATE\n",
    "        self.__name=name\n",
    "        self.age=age\n",
    "        self.rollno=rollno    \n",
    "    \n",
    "    def printName(self):\n",
    "        # everywhere we have to use __\n",
    "        print(self.__name)\n",
    "    def getname(self):\n",
    "        return self.__name\n",
    "    def setname(self,name,paas):## set name with password\n",
    "        if(paas==1234): # we can add validation checks\n",
    "            self.__name=name\n",
    "            return\n",
    "        if(name==\"\")\n",
    "            return\n",
    "        pass\n",
    "s1=student(\"Mohit\",101,20)\n",
    "s2=student('Aman',102)"
   ]
  },
  {
   "cell_type": "code",
   "execution_count": 71,
   "metadata": {},
   "outputs": [
    {
     "name": "stdout",
     "output_type": "stream",
     "text": [
      "Mohit\n"
     ]
    }
   ],
   "source": [
    "print(s1.getname())"
   ]
  },
  {
   "cell_type": "code",
   "execution_count": 79,
   "metadata": {},
   "outputs": [
    {
     "name": "stdout",
     "output_type": "stream",
     "text": [
      "Mohit\n",
      "Mohit Singh\n"
     ]
    }
   ],
   "source": [
    "s1.setname(\"Mohit Singh\",123)\n",
    "print(s1.getname())\n",
    "s1.setname(\"Mohit Singh\",1234)\n",
    "print(s1.getname())"
   ]
  },
  {
   "cell_type": "code",
   "execution_count": 80,
   "metadata": {},
   "outputs": [
    {
     "name": "stdout",
     "output_type": "stream",
     "text": [
      "Mohit Singh\n"
     ]
    }
   ],
   "source": [
    "# 2nd way to access private property\n",
    "# objectname._classname__propertyname\n",
    "print(s1._student__name)"
   ]
  },
  {
   "cell_type": "markdown",
   "metadata": {},
   "source": [
    "# Lecture 8: Class methods and static method"
   ]
  },
  {
   "cell_type": "code",
   "execution_count": 89,
   "metadata": {},
   "outputs": [],
   "source": [
    "\n",
    "class student:\n",
    "    __totalstudent=20\n",
    "    classteacher=\"komal\"\n",
    "    def __init__(self,name,rollno=100,age=20):\n",
    "        self.__name=name\n",
    "        self.age=age\n",
    "        self.rollno=rollno    \n",
    "    def gettotalstudents(self):\n",
    "        return student.__totalstudent\n",
    "    def getname(self):\n",
    "        return self.__name\n",
    "    def setname(self,name,paas):\n",
    "        if(paas==1234): \n",
    "            self.__name=name\n",
    "            return\n",
    "        if(name==\"\"):\n",
    "            return\n",
    "        pass\n",
    "s1=student(\"Mohit\",101,20)\n",
    "s2=student('Aman',102)"
   ]
  },
  {
   "cell_type": "code",
   "execution_count": 83,
   "metadata": {},
   "outputs": [
    {
     "ename": "AttributeError",
     "evalue": "type object 'student' has no attribute '__totalstudent'",
     "output_type": "error",
     "traceback": [
      "\u001b[1;31m---------------------------------------------------------------------------\u001b[0m",
      "\u001b[1;31mAttributeError\u001b[0m                            Traceback (most recent call last)",
      "\u001b[1;32m<ipython-input-83-438b1d5892c3>\u001b[0m in \u001b[0;36m<module>\u001b[1;34m\u001b[0m\n\u001b[1;32m----> 1\u001b[1;33m \u001b[0mprint\u001b[0m\u001b[1;33m(\u001b[0m\u001b[0mstudent\u001b[0m\u001b[1;33m.\u001b[0m\u001b[0m__totalstudent\u001b[0m\u001b[1;33m)\u001b[0m\u001b[1;33m\u001b[0m\u001b[1;33m\u001b[0m\u001b[0m\n\u001b[0m",
      "\u001b[1;31mAttributeError\u001b[0m: type object 'student' has no attribute '__totalstudent'"
     ]
    }
   ],
   "source": [
    "print(student.__totalstudent)"
   ]
  },
  {
   "cell_type": "code",
   "execution_count": 84,
   "metadata": {},
   "outputs": [
    {
     "name": "stdout",
     "output_type": "stream",
     "text": [
      "20\n"
     ]
    }
   ],
   "source": [
    "print(student._student__totalstudent)"
   ]
  },
  {
   "cell_type": "code",
   "execution_count": 90,
   "metadata": {},
   "outputs": [
    {
     "name": "stdout",
     "output_type": "stream",
     "text": [
      "20\n",
      "20\n"
     ]
    }
   ],
   "source": [
    "# Creating class method\n",
    "print(s1.gettotalstudents())\n",
    "print(student.gettotalstudents(s1))"
   ]
  },
  {
   "cell_type": "code",
   "execution_count": 3,
   "metadata": {},
   "outputs": [],
   "source": [
    "# the best way to access total students is through student class, we don't wanna use any object\n",
    "\n",
    "class student:\n",
    "    __totalstudent=20\n",
    "    classteacher=\"komal\"\n",
    "    \n",
    "    def __init__(self,name,rollno=100,age=20):\n",
    "        self.__name=name\n",
    "        self.age=age\n",
    "        self.rollno=rollno    \n",
    "    @classmethod #thus means class method, called decorators\n",
    "    def gettotalstudents(cls):\n",
    "        return student.__totalstudent\n",
    "    def getname(self):\n",
    "        return self.__name\n",
    "    def setname(self,name,paas):\n",
    "        if(paas==1234): \n",
    "            self.__name=name\n",
    "            return\n",
    "        if(name==\"\"):\n",
    "            return\n",
    "        pass\n",
    "s1=student(\"Mohit\",101,20)\n",
    "s2=student('Aman',102)"
   ]
  },
  {
   "cell_type": "code",
   "execution_count": 4,
   "metadata": {},
   "outputs": [
    {
     "name": "stdout",
     "output_type": "stream",
     "text": [
      "Mohit\n"
     ]
    }
   ],
   "source": [
    "print(s1._student__name)"
   ]
  },
  {
   "cell_type": "code",
   "execution_count": 94,
   "metadata": {},
   "outputs": [
    {
     "name": "stdout",
     "output_type": "stream",
     "text": [
      "20\n"
     ]
    }
   ],
   "source": [
    "print(student.gettotalstudents())"
   ]
  }
 ],
 "metadata": {
  "kernelspec": {
   "display_name": "Python 3",
   "language": "python",
   "name": "python3"
  },
  "language_info": {
   "codemirror_mode": {
    "name": "ipython",
    "version": 3
   },
   "file_extension": ".py",
   "mimetype": "text/x-python",
   "name": "python",
   "nbconvert_exporter": "python",
   "pygments_lexer": "ipython3",
   "version": "3.8.3"
  }
 },
 "nbformat": 4,
 "nbformat_minor": 4
}
