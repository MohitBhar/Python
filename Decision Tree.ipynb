{
 "cells": [
  {
   "cell_type": "code",
   "execution_count": 1,
   "metadata": {},
   "outputs": [],
   "source": [
    "from sklearn import datasets\n",
    "from sklearn.tree import DecisionTreeClassifier\n",
    "from sklearn.model_selection import train_test_split\n",
    "# To print the tree\n",
    "from sklearn.tree import export_graphviz"
   ]
  },
  {
   "cell_type": "code",
   "execution_count": 2,
   "metadata": {},
   "outputs": [],
   "source": [
    "iris=datasets.load_iris()\n",
    "x_train,x_test,y_train,y_test= train_test_split(iris.data,iris.target,random_state=1)"
   ]
  },
  {
   "cell_type": "code",
   "execution_count": 3,
   "metadata": {},
   "outputs": [
    {
     "data": {
      "text/plain": [
       "DecisionTreeClassifier()"
      ]
     },
     "execution_count": 3,
     "metadata": {},
     "output_type": "execute_result"
    }
   ],
   "source": [
    "clf = DecisionTreeClassifier()\n",
    "clf.fit(x_train,y_train)"
   ]
  },
  {
   "cell_type": "code",
   "execution_count": 4,
   "metadata": {},
   "outputs": [
    {
     "data": {
      "text/plain": [
       "True"
      ]
     },
     "execution_count": 4,
     "metadata": {},
     "output_type": "execute_result"
    }
   ],
   "source": [
    "import pydotplus\n",
    "dot_data=export_graphviz(clf,out_file=None,\n",
    "                        feature_names=iris.feature_names,\n",
    "                        class_names=iris.target_names)\n",
    "graph=pydotplus.graph_from_dot_data(dot_data)\n",
    "graph.write_pdf(\"iris.pdf\")"
   ]
  },
  {
   "cell_type": "code",
   "execution_count": 5,
   "metadata": {},
   "outputs": [],
   "source": [
    "y_train_pred = clf.predict(x_train)\n",
    "y_test_pred = clf.predict(x_test)"
   ]
  },
  {
   "cell_type": "code",
   "execution_count": 6,
   "metadata": {},
   "outputs": [],
   "source": [
    "from sklearn.metrics import confusion_matrix"
   ]
  },
  {
   "cell_type": "code",
   "execution_count": 7,
   "metadata": {},
   "outputs": [
    {
     "data": {
      "text/plain": [
       "array([[37,  0,  0],\n",
       "       [ 0, 34,  0],\n",
       "       [ 0,  0, 41]], dtype=int64)"
      ]
     },
     "execution_count": 7,
     "metadata": {},
     "output_type": "execute_result"
    }
   ],
   "source": [
    "confusion_matrix(y_train,y_train_pred)\n",
    "# all entries are correct, there may be overfitting"
   ]
  },
  {
   "cell_type": "code",
   "execution_count": 8,
   "metadata": {},
   "outputs": [
    {
     "data": {
      "text/plain": [
       "array([[13,  0,  0],\n",
       "       [ 0, 15,  1],\n",
       "       [ 0,  0,  9]], dtype=int64)"
      ]
     },
     "execution_count": 8,
     "metadata": {},
     "output_type": "execute_result"
    }
   ],
   "source": [
    "confusion_matrix(y_test,y_test_pred)"
   ]
  },
  {
   "cell_type": "code",
   "execution_count": null,
   "metadata": {},
   "outputs": [],
   "source": []
  },
  {
   "cell_type": "code",
   "execution_count": 9,
   "metadata": {},
   "outputs": [],
   "source": [
    "# CODE"
   ]
  },
  {
   "cell_type": "code",
   "execution_count": 10,
   "metadata": {},
   "outputs": [],
   "source": [
    "import numpy as np\n",
    "import pandas as pd\n",
    "from sklearn import datasets\n",
    "from sklearn.tree import DecisionTreeClassifier\n",
    "from sklearn.model_selection import train_test_split\n",
    "iris=datasets.load_iris()\n",
    "x_train,x_test,y_train,y_test= train_test_split(iris.data,iris.target,random_state=1)"
   ]
  },
  {
   "cell_type": "code",
   "execution_count": 11,
   "metadata": {},
   "outputs": [],
   "source": [
    "\n",
    "class TreeNode:\n",
    "    def __init__(self,level):\n",
    "        self.__level=level\n",
    "        self.splittingFeature=\"\"\n",
    "        self.__entropy=0.0\n",
    "        self.__gainRatio=-1\n",
    "        self.childList=[]\n",
    "        self.list=[]\n",
    "        self.result=\"\"\n",
    "    \n",
    "#     def getLevel():\n",
    "#         return self.__level\n",
    "    def addChild(self,node,data):\n",
    "        self.list.append(node)\n",
    "        \n",
    "        self.childList=self.childList+[(node,data)]\n",
    "    \n",
    "    \n",
    "    def setSplittingFeature(self,f):\n",
    "        self.splitting_feature=f\n",
    "    \n",
    "    def printCount(self,y):\n",
    "        # this method is used for printing the unique value (with their count)\n",
    "        # present in the output i.e. Y\n",
    "#         y = np.array(y)\n",
    "#         y = pd.Series(y)\n",
    "        # converting y to pandas'series and using value_counts() to get the unique value\n",
    "        a=y.value_counts(ascending=True)\n",
    "        \n",
    "        # printing the unique values of Y\n",
    "        for i in range(a.shape[0]):\n",
    "            print(\"Count of \",i,\"(\",str(a.index[i])+\")\",a.values[i])\n",
    "        self.result=str(a.index[a.shape[0]-1])\n",
    "            \n",
    "    def setEntropy(self,entropy):\n",
    "        # method to add entropy as the fields\n",
    "        self.__entropy=entropy\n",
    "    \n",
    "    def setGainRatio(self,gainRatio):\n",
    "        self.__gainRatio=gainRatio\n",
    "    \n",
    "    def printDetails(self,y):\n",
    "        print(\"Level\",self.__level)\n",
    "        self.printCount(y)\n",
    "        print(\"Current Entropy  is =\",self.__entropy)\n",
    "        \n",
    "        if(self.splittingFeature!=\"\"):\n",
    "            \n",
    "            print(\"Splitting on feature\",self.splittingFeature,\"with gain ratio\",self.__gainRatio)\n",
    "        else:\n",
    "            print(\"Reached leaf Node\")\n",
    "        print(\"result\",self.result)"
   ]
  },
  {
   "cell_type": "code",
   "execution_count": 12,
   "metadata": {},
   "outputs": [],
   "source": [
    "import math\n",
    "\n",
    "def gain(x, y, f):\n",
    "    #Using gain ratio for calculation\n",
    "    labels=getLabels(x[f])\n",
    "    x[\"y\"]=y\n",
    "    \n",
    "    # calculating the split info\n",
    "#     print(\";;;;;\",f)\n",
    "#     print(x)\n",
    "#     print(x[f])\n",
    "    \n",
    "    split_info_ = split_info(x[f])\n",
    "    \n",
    "    a=x[\"y\"].value_counts()\n",
    "    length_y=x.shape[0]\n",
    "    \n",
    "    info_feature=info(a,length_y)\n",
    "    \n",
    "    \n",
    "#     print(\"aaaaaaaaaaaaaaaaaaaaa\")\n",
    "#     print(a)\n",
    "#     print(x)\n",
    "\n",
    "#     print(info_feature)\n",
    "    \n",
    "    \n",
    "    # Calculating the entropy/ Info gain\n",
    "    entropy=0\n",
    "    for i in labels:\n",
    "        new_x=x[x[f]==i]\n",
    "        a1=new_x[\"y\"].value_counts()\n",
    "        length_y1=new_x.shape[0]\n",
    "        \n",
    "        info_i=info(a1,length_y1)\n",
    "        \n",
    "        entropy+=float(new_x.shape[0]*info_i)/float(x.shape[0])\n",
    "        \n",
    "    info_gain=info_feature-entropy\n",
    "    \n",
    "    gain_ratio=info_gain/split_info_\n",
    "#     print(\"infogain\",info_gain,\"a-b; a\",info_feature,\"b\",entropy,\"split_info\",split_info_,\"gain ratio\",gain_ratio)\n",
    "    return (info_feature,gain_ratio)\n",
    "    \n",
    "    \n",
    "def split_info(x):\n",
    "    split_info=0\n",
    "    a=x.value_counts()    \n",
    "    for i in range(a.shape[0]):\n",
    "        p=float(a.values[i])/float(x.shape[0])\n",
    "        log=math.log(p,2)\n",
    "        split_info += p*log\n",
    "    split_info= (-1)*split_info\n",
    "    return split_info\n",
    "\n",
    "def info(a,length_y):\n",
    "\n",
    "    info_i=0\n",
    "        \n",
    "    for i in range(a.shape[0]):\n",
    "        p=float(a.values[i])/float(length_y)\n",
    "        log=math.log(p,2)\n",
    "        info_i += p*log\n",
    "#         print(i,p,log,info,\"-------------\")\n",
    "    info_i= (-1)*info_i\n",
    "    \n",
    "    return info_i\n",
    "    \n",
    "def getLabels(x):   \n",
    "    # x is pandas' series\n",
    "    \n",
    "    a=x.value_counts()\n",
    "    length=a.shape[0]\n",
    "    \n",
    "    labels=[]\n",
    "    for i in range(a.shape[0]):\n",
    "        labels.append(a.index[i])\n",
    "    return labels\n",
    "\n",
    "def decisionTree(x, y, level, features):\n",
    "    print()\n",
    "    # Creating the Tree Node object \n",
    "    node=TreeNode(level)\n",
    "    \n",
    "    # creating set for finding the unique values of y\n",
    "    a=set()\n",
    "    for i in range(y.shape[0]):\n",
    "        a.add(y.iloc[i][0])\n",
    "    \n",
    "    if(len(a)==1):\n",
    "        # pure node is achieved\n",
    "        \n",
    "        node.printDetails(y)\n",
    "        \n",
    "        return node\n",
    "    \n",
    "    elif(len(features)<=0):\n",
    "        # no more features to split upon\n",
    "        a=y.value_counts()\n",
    "        length_y=x.shape[0]\n",
    "\n",
    "        info_feature=info(a,length_y)\n",
    "        node.setEntropy(float(info_feature))\n",
    "        node.printDetails(y)\n",
    "        return node\n",
    "    \n",
    "    # Finding the best feature to split upon\n",
    "    max_gain=-1\n",
    "    max_entropy=-1\n",
    "    best_feature=\"\"\n",
    "    \n",
    "    for f in features:\n",
    "        # calculating gain ratio\n",
    "        g1=gain(x, y, f)\n",
    "        g=g1[1]\n",
    "        entropy=g1[0]\n",
    "        # updating the best feature according to the maximum gain\n",
    "        if(g>max_gain):\n",
    "            best_feature=f\n",
    "            max_gain=g\n",
    "            max_entropy=entropy\n",
    "    \n",
    "    # removing the current feature\n",
    "    features.remove(best_feature)\n",
    "    \n",
    "    # printing the current Node\n",
    "    node.setSplittingFeature(best_feature)\n",
    "    node.splittingFeature=best_feature\n",
    "    node.setEntropy(max_entropy)\n",
    "    node.setGainRatio(max_gain)\n",
    "    node.printDetails(y)\n",
    "    \n",
    "    # Recursion to build the complete tree\n",
    "    \n",
    "    labels=getLabels(x[best_feature])\n",
    "    x[\"y\"]=y\n",
    "    for i in labels:\n",
    "        \n",
    "        new_x = x[x[best_feature]==i]\n",
    "        new_y = new_x[\"y\"]\n",
    "        new_x.drop('y',axis=1,inplace=True)\n",
    "        \n",
    "        # recursion\n",
    "        node.addChild(decisionTree(new_x, new_y, level+1, features),i)\n",
    "    \n",
    "    x.drop('y',axis=1,inplace=True)\n",
    "    return node\n",
    "           "
   ]
  },
  {
   "cell_type": "code",
   "execution_count": 13,
   "metadata": {},
   "outputs": [
    {
     "name": "stdout",
     "output_type": "stream",
     "text": [
      "\n",
      "Level 0\n",
      "Count of  0 ( False) 1\n",
      "Count of  1 ( True) 3\n",
      "Current Entropy  is = 0.8112781244591328\n",
      "Splitting on feature x1 with gain ratio 0.31127812445913283\n",
      "result True\n",
      "\n",
      "Level 1\n",
      "Count of  0 ( True) 2\n",
      "Current Entropy  is = 0.0\n",
      "Reached leaf Node\n",
      "result True\n",
      "\n",
      "Level 1\n",
      "Count of  0 ( False) 1\n",
      "Count of  1 ( True) 1\n",
      "Current Entropy  is = 1.0\n",
      "Splitting on feature x2 with gain ratio 1.0\n",
      "result True\n",
      "\n",
      "Level 2\n",
      "Count of  0 ( True) 1\n",
      "Current Entropy  is = 0.0\n",
      "Reached leaf Node\n",
      "result True\n",
      "\n",
      "Level 2\n",
      "Count of  0 ( False) 1\n",
      "Current Entropy  is = 0.0\n",
      "Reached leaf Node\n",
      "result False\n"
     ]
    },
    {
     "name": "stderr",
     "output_type": "stream",
     "text": [
      "C:\\Users\\MOHIT\\anaconda3\\lib\\site-packages\\pandas\\core\\frame.py:3990: SettingWithCopyWarning: \n",
      "A value is trying to be set on a copy of a slice from a DataFrame\n",
      "\n",
      "See the caveats in the documentation: https://pandas.pydata.org/pandas-docs/stable/user_guide/indexing.html#returning-a-view-versus-a-copy\n",
      "  return super().drop(\n",
      "<ipython-input-12-028233cdb422>:6: SettingWithCopyWarning: \n",
      "A value is trying to be set on a copy of a slice from a DataFrame.\n",
      "Try using .loc[row_indexer,col_indexer] = value instead\n",
      "\n",
      "See the caveats in the documentation: https://pandas.pydata.org/pandas-docs/stable/user_guide/indexing.html#returning-a-view-versus-a-copy\n",
      "  x[\"y\"]=y\n",
      "<ipython-input-12-028233cdb422>:136: SettingWithCopyWarning: \n",
      "A value is trying to be set on a copy of a slice from a DataFrame.\n",
      "Try using .loc[row_indexer,col_indexer] = value instead\n",
      "\n",
      "See the caveats in the documentation: https://pandas.pydata.org/pandas-docs/stable/user_guide/indexing.html#returning-a-view-versus-a-copy\n",
      "  x[\"y\"]=y\n"
     ]
    }
   ],
   "source": [
    "X=[[\"True\",\"True\"],[\"True\",\"False\"],[\"False\",\"True\"],[\"False\",\"False\"]]\n",
    "# Y=[[\"True\"],[\"True\"],[\"True\"],[\"False\"]]\n",
    "Y=[\"True\",\"True\",\"True\",\"False\"]\n",
    "\n",
    "X=np.array(X)\n",
    "Y=np.array(Y)\n",
    "x = pd.DataFrame(X,columns=[\"x1\",\"x2\"])\n",
    "y = pd.Series(Y)\n",
    "node=decisionTree(x, y, 0, [\"x1\",\"x2\"])\n",
    "# for i in range(y.shape[0]):\n",
    "#     print(y.iloc[i][0])\n",
    "# y.shape\n",
    "# a=y.value_counts()\n",
    "# print(a)\n",
    "# a.shape()\n"
   ]
  },
  {
   "cell_type": "code",
   "execution_count": 14,
   "metadata": {},
   "outputs": [],
   "source": [
    "def fit(x,y,features):\n",
    "    decisionTree(x, y, 0, features)\n",
    "def predict_single(node,x):\n",
    "    print(\"--------\")\n",
    "    print(\"level\",node._TreeNode__level,\"result\",node.result)\n",
    "#     print(\"selected feature\",node.splitting_feature,\"level\",node._TreeNode__level,\"result\",node.result)\n",
    "  \n",
    "    print(node.result,len(node.childList))\n",
    "    if (len(node.childList)==0):\n",
    "        return node.result\n",
    "    x_data=x[node.splittingFeature]\n",
    "    x_data=x_data.iloc[0]\n",
    "    for i in range(len(node.childList)):\n",
    "        value=node.childList[i]\n",
    "        curr_node=value[0]\n",
    "        curr_node_data=value[1]\n",
    "#         print(\"passing\",curr_node,curr_node_data)\n",
    "            \n",
    "        if(x_data==curr_node_data):\n",
    "            return predict_single(curr_node,x)\n",
    "    print(\"-------------------------------------------------------------------------\")\n",
    "def predict(node,x):\n",
    "#     print(x.shape)\n",
    "    y=[]\n",
    "    for i in range(x.shape[0]):\n",
    "        a=x.iloc[i:]\n",
    "#         print(\"a\",a.shape)\n",
    "#         print(a)\n",
    "        result=predict_single(node,a)\n",
    "        print(\"------------------result----------\",result)\n",
    "        y.append(result)\n",
    "    Y=np.array(y)\n",
    "    y = pd.Series(Y)\n",
    "    return y\n",
    "        \n",
    "def score(y_pred,y_true):\n",
    "    count=0\n",
    "    for i in range(y_true.shape[0]):\n",
    "        a=y_true.iloc[i]\n",
    "        b=y_pred.iloc[i]\n",
    "        \n",
    "        if(a==b):\n",
    "            count+=1\n",
    "    score=count/y_true.shape[0]\n",
    "    return score\n",
    "    "
   ]
  },
  {
   "cell_type": "code",
   "execution_count": 15,
   "metadata": {},
   "outputs": [
    {
     "name": "stdout",
     "output_type": "stream",
     "text": [
      "--------\n",
      "level 0 result True\n",
      "True 2\n",
      "--------\n",
      "level 1 result True\n",
      "True 0\n",
      "------------------result---------- True\n",
      "--------\n",
      "level 0 result True\n",
      "True 2\n",
      "--------\n",
      "level 1 result True\n",
      "True 0\n",
      "------------------result---------- True\n",
      "--------\n",
      "level 0 result True\n",
      "True 2\n",
      "--------\n",
      "level 1 result True\n",
      "True 2\n",
      "--------\n",
      "level 2 result True\n",
      "True 0\n",
      "------------------result---------- True\n",
      "--------\n",
      "level 0 result True\n",
      "True 2\n",
      "--------\n",
      "level 1 result True\n",
      "True 2\n",
      "--------\n",
      "level 2 result False\n",
      "False 0\n",
      "------------------result---------- False\n",
      "SCORE 1.0\n"
     ]
    }
   ],
   "source": [
    "# print(type(node.childList))\n",
    "# print(len(node.childList))\n",
    "# print(node.splittingFeature)\n",
    "# X=[[\"False\",\"True\"]]\n",
    "# x = pd.DataFrame(X,columns=[\"x1\",\"x2\"])\n",
    "# print(x)\n",
    "# print(x.shape)\n",
    "from sklearn.metrics import confusion_matrix\n",
    "X=[[\"True\",\"True\"],[\"True\",\"False\"],[\"False\",\"True\"],[\"False\",\"False\"]]\n",
    "X=np.array(X)\n",
    "x = pd.DataFrame(X,columns=[\"x1\",\"x2\"])\n",
    "# print(x)\n",
    "y_pred=predict(node,x)\n",
    "print(\"SCORE\",score(y_pred,y))"
   ]
  },
  {
   "cell_type": "code",
   "execution_count": 16,
   "metadata": {},
   "outputs": [
    {
     "name": "stdout",
     "output_type": "stream",
     "text": [
      "asc\n",
      "That's not an int!\n",
      "<class 'int'> ---- 4\n",
      "4 1\n",
      "3 1\n",
      "2 1\n",
      "Aba 1\n",
      "aca 1\n",
      "1 1\n"
     ]
    }
   ],
   "source": [
    "import numpy as np\n",
    "np_array=np.array([1,2,3,4,\"Aba\",\"aca\"])\n",
    "import pandas as pd\n",
    "new_series = pd.Series(np_array)\n",
    "a=new_series.value_counts()\n",
    "try:\n",
    "   val = int(input())\n",
    "    \n",
    "except ValueError:\n",
    "   print(\"That's not an int!\")\n",
    "print(type(int(a.index[0])),\"----\",a.index[0])\n",
    "for i in range(a.shape[0]):\n",
    "    print(a.index[i],a.values[i])\n",
    "# print(new_series)"
   ]
  },
  {
   "cell_type": "code",
   "execution_count": 17,
   "metadata": {},
   "outputs": [
    {
     "data": {
      "text/plain": [
       "['cd']"
      ]
     },
     "execution_count": 17,
     "metadata": {},
     "output_type": "execute_result"
    }
   ],
   "source": [
    "a=[\"ab\",\"cd\"]\n",
    "a.remove(\"ab\")\n",
    "a"
   ]
  },
  {
   "cell_type": "code",
   "execution_count": 18,
   "metadata": {},
   "outputs": [
    {
     "data": {
      "text/plain": [
       "2.302585092994046"
      ]
     },
     "execution_count": 18,
     "metadata": {},
     "output_type": "execute_result"
    }
   ],
   "source": [
    "import math\n",
    "math.log(10,math.e)"
   ]
  },
  {
   "cell_type": "code",
   "execution_count": 19,
   "metadata": {},
   "outputs": [
    {
     "data": {
      "text/plain": [
       "[1, 2, 3, 2]"
      ]
     },
     "execution_count": 19,
     "metadata": {},
     "output_type": "execute_result"
    }
   ],
   "source": [
    "a=[1,2,3]\n",
    "b=a+[2]\n",
    "b"
   ]
  }
 ],
 "metadata": {
  "kernelspec": {
   "display_name": "Python 3",
   "language": "python",
   "name": "python3"
  },
  "language_info": {
   "codemirror_mode": {
    "name": "ipython",
    "version": 3
   },
   "file_extension": ".py",
   "mimetype": "text/x-python",
   "name": "python",
   "nbconvert_exporter": "python",
   "pygments_lexer": "ipython3",
   "version": "3.8.3"
  }
 },
 "nbformat": 4,
 "nbformat_minor": 4
}
